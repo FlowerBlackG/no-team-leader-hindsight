{
 "cells": [
  {
   "cell_type": "code",
   "execution_count": null,
   "metadata": {},
   "outputs": [],
   "source": [
    "# auth\n",
    "\n",
    "import os\n",
    "import jqdatasdk\n",
    "\n",
    "jqdatasdk.auth(\n",
    "    \n",
    ")\n"
   ]
  },
  {
   "cell_type": "code",
   "execution_count": null,
   "metadata": {},
   "outputs": [],
   "source": [
    "# get securities\n",
    "\n",
    "securities = jqdatasdk.get_all_securities(types=['stock', 'fund', 'index', 'futures','conbond', 'etf','lof',\n",
    "'fja', 'fjb','open_fund', 'bond_fund',\n",
    "'stock_fund', 'QDII_fund', 'money_market_fund', 'mixture_fund','bjse','csi'])\n",
    "\n"
   ]
  },
  {
   "cell_type": "code",
   "execution_count": null,
   "metadata": {},
   "outputs": [],
   "source": [
    "securities"
   ]
  },
  {
   "cell_type": "code",
   "execution_count": null,
   "metadata": {},
   "outputs": [],
   "source": [
    "import pandas as pd\n",
    "import src.structs as structs\n",
    "\n",
    "df = pd.read_csv('vc-cache/jqdatatools/securities.csv', encoding='utf-8')\n",
    "\n",
    "inst_list : list[structs.InstrumentInfo] = []\n",
    "\n",
    "for index, row in df.iterrows():\n",
    "    inst = structs.InstrumentInfo()\n",
    "    inst.id = row.iloc[0].split('.')[0]\n",
    "    inst.display_name = row['display_name'] # type: ignore\n",
    "    inst.inst_type = row['type'] # type: ignore\n",
    "    inst_list.append(inst)\n",
    " \n",
    "\n",
    "for it in inst_list:\n",
    "    print(f'{it.id} {it.display_name} {it.inst_type}')\n",
    "    \n",
    "\n",
    "\n"
   ]
  }
 ],
 "metadata": {
  "kernelspec": {
   "display_name": "venv",
   "language": "python",
   "name": "python3"
  },
  "language_info": {
   "codemirror_mode": {
    "name": "ipython",
    "version": 3
   },
   "file_extension": ".py",
   "mimetype": "text/x-python",
   "name": "python",
   "nbconvert_exporter": "python",
   "pygments_lexer": "ipython3",
   "version": "3.10.7"
  }
 },
 "nbformat": 4,
 "nbformat_minor": 2
}
